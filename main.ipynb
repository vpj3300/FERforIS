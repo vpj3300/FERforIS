{
 "cells": [
  {
   "cell_type": "markdown",
   "id": "377201b3-e64a-46d5-87fc-3ec811e8b349",
   "metadata": {
    "collapsed": false,
    "jupyter": {
     "outputs_hidden": false,
     "source_hidden": false
    }
   },
   "source": [
    "![Header image](resources/image.jpg)\n",
    "\n",
    "Exciting times! \n",
    "\n",
    "You've been running our very successful gadget webshop 'DataGadgets' for a few years and have recently expanded into new territories. While you've been focussed on the US market for the first five years of our existence, you now are shipping our cool data gadgets to the UK and Europe, too! But now our in-house built reporting has broken! Transactions don't only come in USD, but you're also receiving transactions in EUR and GPB. \n",
    "\n",
    "To better understand the volume of transactions being made, you should convert the non-USD transactions to USD and sum up the total. To do this, however, you'll need to use the proper exchange rates. \n",
    "\n",
    "In this project, you'll start with a CSV file containing all e-commerce transactions made on January 21st, but in their original currencies. Your job is to calculate the total sum in USD of all transactions so you know how much USD you sold on January 21st. To do this, you'll need to convert any non-USD transactions to USD using the exchange rate from January 21st, 2024. \n",
    "\n",
    "To get the exchange rates from January 21st, 2024, you'll rely on [VAT Comply rates API's](https://www.vatcomply.com/documentation#rates) public and free currency exchange API. You'll also use `pandas` to load the CSV file into a DataFrame and the `requests` package to make interacting with the API easier. \n",
    "\n",
    "You need to update the `orders` DataFrame so the final version has two new columns: `exchange_rate` and `amount_usd`. The final version should look as follows:\n",
    "\n",
    "| `amount` | `currency` | `exchange_rate` | `amount_usd` |\n",
    "|-|-|-|-|\n",
    "| 43.75 | EUR | ... | ... |\n",
    "| 385.5 | GBP | ... | ... |\n",
    "| 495.5 | GBP | ... | ... |\n",
    "| 117.99 | GBP | ... | ... |\n",
    "| 624 | USD | ... | ... |"
   ]
  },
  {
   "cell_type": "code",
   "execution_count": 2,
   "id": "53db96bd-df3b-4d11-8d2d-d283fa11952a",
   "metadata": {},
   "outputs": [
    {
     "name": "stdout",
     "output_type": "stream",
     "text": [
      "326864.39599246805\n"
     ]
    }
   ],
   "source": [
    "# Import required packages/libraries\n",
    "import pandas as pd\n",
    "import requests\n",
    "\n",
    "# Read the CSV file into a DataFrame\n",
    "orders = pd.read_csv('data/orders-2024-01-21.csv')\n",
    "\n",
    "# Get exchange rates from API\n",
    "request_url = 'https://api.vatcomply.com/rates'\n",
    "params = {\n",
    "    'date' : '2024-01-21',\n",
    "    'base': 'USD'\n",
    "} \n",
    "response = requests.get(request_url, params=params)\n",
    "rates = response.json()['rates']\n",
    "\n",
    "# Apply exchange rates\n",
    "orders['exchange_rate'] = orders['currency'].map(rates)\n",
    "\n",
    "# Calculate sales in US dollars\n",
    "orders['amount_usd'] = orders['amount'] * orders['exchange_rate']\n",
    "\n",
    "# Find the total amount of sales in US dollars\n",
    "total_usd_sales = orders['amount_usd'].sum()\n",
    "\n",
    "print(total_usd_sales)"
   ]
  }
 ],
 "metadata": {
  "editor": "DataLab",
  "kernelspec": {
   "display_name": "Python 3",
   "language": "python",
   "name": "python3"
  },
  "language_info": {
   "codemirror_mode": {
    "name": "ipython",
    "version": 3
   },
   "file_extension": ".py",
   "mimetype": "text/x-python",
   "name": "python",
   "nbconvert_exporter": "python",
   "pygments_lexer": "ipython3",
   "version": "3.12.6"
  }
 },
 "nbformat": 4,
 "nbformat_minor": 5
}
